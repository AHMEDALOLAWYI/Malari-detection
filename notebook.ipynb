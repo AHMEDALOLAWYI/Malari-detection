{
  "nbformat": 4,
  "nbformat_minor": 0,
  "metadata": {
    "colab": {
      "name": "notebook.ipynb",
      "provenance": [],
      "collapsed_sections": [
        "1xaEKim93ZKq",
        "eSnPmKHo3fGM",
        "r_2BHHpV5uS6",
        "9443yXrx5xeV",
        "gCSz0asw57m1",
        "a9-XdoWK6A-H",
        "SQWNppPy6Mn7",
        "dU7x_jRw6ifb",
        "ASvxpNXw6pch",
        "EXtt-peg4F9d",
        "qeYNLJsr4fT4",
        "3Hh76Hnm40JJ"
      ],
      "include_colab_link": true
    },
    "kernelspec": {
      "name": "python3",
      "display_name": "Python 3"
    },
    "widgets": {
      "application/vnd.jupyter.widget-state+json": {
        "9e1b229a997f45a18026950602ff48c5": {
          "model_module": "@jupyter-widgets/controls",
          "model_name": "HBoxModel",
          "state": {
            "_view_name": "HBoxView",
            "_dom_classes": [],
            "_model_name": "HBoxModel",
            "_view_module": "@jupyter-widgets/controls",
            "_model_module_version": "1.5.0",
            "_view_count": null,
            "_view_module_version": "1.5.0",
            "box_style": "",
            "layout": "IPY_MODEL_291824d89b38439bbbdbdeb638528915",
            "_model_module": "@jupyter-widgets/controls",
            "children": [
              "IPY_MODEL_1b5f31cf0dcd4e1bab9c78fecb296af5",
              "IPY_MODEL_3c1a0d32d88a47b0868e83d8e6050c77"
            ]
          }
        },
        "291824d89b38439bbbdbdeb638528915": {
          "model_module": "@jupyter-widgets/base",
          "model_name": "LayoutModel",
          "state": {
            "_view_name": "LayoutView",
            "grid_template_rows": null,
            "right": null,
            "justify_content": null,
            "_view_module": "@jupyter-widgets/base",
            "overflow": null,
            "_model_module_version": "1.2.0",
            "_view_count": null,
            "flex_flow": null,
            "width": null,
            "min_width": null,
            "border": null,
            "align_items": null,
            "bottom": null,
            "_model_module": "@jupyter-widgets/base",
            "top": null,
            "grid_column": null,
            "overflow_y": null,
            "overflow_x": null,
            "grid_auto_flow": null,
            "grid_area": null,
            "grid_template_columns": null,
            "flex": null,
            "_model_name": "LayoutModel",
            "justify_items": null,
            "grid_row": null,
            "max_height": null,
            "align_content": null,
            "visibility": null,
            "align_self": null,
            "height": null,
            "min_height": null,
            "padding": null,
            "grid_auto_rows": null,
            "grid_gap": null,
            "max_width": null,
            "order": null,
            "_view_module_version": "1.2.0",
            "grid_template_areas": null,
            "object_position": null,
            "object_fit": null,
            "grid_auto_columns": null,
            "margin": null,
            "display": null,
            "left": null
          }
        },
        "1b5f31cf0dcd4e1bab9c78fecb296af5": {
          "model_module": "@jupyter-widgets/controls",
          "model_name": "IntProgressModel",
          "state": {
            "_view_name": "ProgressView",
            "style": "IPY_MODEL_9d0f91b81abe43e79d74309cbda61fb2",
            "_dom_classes": [],
            "description": "",
            "_model_name": "IntProgressModel",
            "bar_style": "success",
            "max": 87306240,
            "_view_module": "@jupyter-widgets/controls",
            "_model_module_version": "1.5.0",
            "value": 87306240,
            "_view_count": null,
            "_view_module_version": "1.5.0",
            "orientation": "horizontal",
            "min": 0,
            "description_tooltip": null,
            "_model_module": "@jupyter-widgets/controls",
            "layout": "IPY_MODEL_9d08eaf1ae234a328f224ea335358a4b"
          }
        },
        "3c1a0d32d88a47b0868e83d8e6050c77": {
          "model_module": "@jupyter-widgets/controls",
          "model_name": "HTMLModel",
          "state": {
            "_view_name": "HTMLView",
            "style": "IPY_MODEL_1db70e97aaa14bee8dbadc7f55c90232",
            "_dom_classes": [],
            "description": "",
            "_model_name": "HTMLModel",
            "placeholder": "​",
            "_view_module": "@jupyter-widgets/controls",
            "_model_module_version": "1.5.0",
            "value": "100% 83.3M/83.3M [00:00&lt;00:00, 246MB/s]",
            "_view_count": null,
            "_view_module_version": "1.5.0",
            "description_tooltip": null,
            "_model_module": "@jupyter-widgets/controls",
            "layout": "IPY_MODEL_df55848c81bd491cb4da204c4cc043b9"
          }
        },
        "9d0f91b81abe43e79d74309cbda61fb2": {
          "model_module": "@jupyter-widgets/controls",
          "model_name": "ProgressStyleModel",
          "state": {
            "_view_name": "StyleView",
            "_model_name": "ProgressStyleModel",
            "description_width": "",
            "_view_module": "@jupyter-widgets/base",
            "_model_module_version": "1.5.0",
            "_view_count": null,
            "_view_module_version": "1.2.0",
            "bar_color": null,
            "_model_module": "@jupyter-widgets/controls"
          }
        },
        "9d08eaf1ae234a328f224ea335358a4b": {
          "model_module": "@jupyter-widgets/base",
          "model_name": "LayoutModel",
          "state": {
            "_view_name": "LayoutView",
            "grid_template_rows": null,
            "right": null,
            "justify_content": null,
            "_view_module": "@jupyter-widgets/base",
            "overflow": null,
            "_model_module_version": "1.2.0",
            "_view_count": null,
            "flex_flow": null,
            "width": null,
            "min_width": null,
            "border": null,
            "align_items": null,
            "bottom": null,
            "_model_module": "@jupyter-widgets/base",
            "top": null,
            "grid_column": null,
            "overflow_y": null,
            "overflow_x": null,
            "grid_auto_flow": null,
            "grid_area": null,
            "grid_template_columns": null,
            "flex": null,
            "_model_name": "LayoutModel",
            "justify_items": null,
            "grid_row": null,
            "max_height": null,
            "align_content": null,
            "visibility": null,
            "align_self": null,
            "height": null,
            "min_height": null,
            "padding": null,
            "grid_auto_rows": null,
            "grid_gap": null,
            "max_width": null,
            "order": null,
            "_view_module_version": "1.2.0",
            "grid_template_areas": null,
            "object_position": null,
            "object_fit": null,
            "grid_auto_columns": null,
            "margin": null,
            "display": null,
            "left": null
          }
        },
        "1db70e97aaa14bee8dbadc7f55c90232": {
          "model_module": "@jupyter-widgets/controls",
          "model_name": "DescriptionStyleModel",
          "state": {
            "_view_name": "StyleView",
            "_model_name": "DescriptionStyleModel",
            "description_width": "",
            "_view_module": "@jupyter-widgets/base",
            "_model_module_version": "1.5.0",
            "_view_count": null,
            "_view_module_version": "1.2.0",
            "_model_module": "@jupyter-widgets/controls"
          }
        },
        "df55848c81bd491cb4da204c4cc043b9": {
          "model_module": "@jupyter-widgets/base",
          "model_name": "LayoutModel",
          "state": {
            "_view_name": "LayoutView",
            "grid_template_rows": null,
            "right": null,
            "justify_content": null,
            "_view_module": "@jupyter-widgets/base",
            "overflow": null,
            "_model_module_version": "1.2.0",
            "_view_count": null,
            "flex_flow": null,
            "width": null,
            "min_width": null,
            "border": null,
            "align_items": null,
            "bottom": null,
            "_model_module": "@jupyter-widgets/base",
            "top": null,
            "grid_column": null,
            "overflow_y": null,
            "overflow_x": null,
            "grid_auto_flow": null,
            "grid_area": null,
            "grid_template_columns": null,
            "flex": null,
            "_model_name": "LayoutModel",
            "justify_items": null,
            "grid_row": null,
            "max_height": null,
            "align_content": null,
            "visibility": null,
            "align_self": null,
            "height": null,
            "min_height": null,
            "padding": null,
            "grid_auto_rows": null,
            "grid_gap": null,
            "max_width": null,
            "order": null,
            "_view_module_version": "1.2.0",
            "grid_template_areas": null,
            "object_position": null,
            "object_fit": null,
            "grid_auto_columns": null,
            "margin": null,
            "display": null,
            "left": null
          }
        }
      }
    },
    "accelerator": "GPU"
  },
  "cells": [
    {
      "cell_type": "markdown",
      "metadata": {
        "id": "view-in-github",
        "colab_type": "text"
      },
      "source": [
        "<a href=\"https://colab.research.google.com/github/alihussainia/Malaria_Edge_Detection/blob/master/notebook.ipynb\" target=\"_parent\"><img src=\"https://colab.research.google.com/assets/colab-badge.svg\" alt=\"Open In Colab\"/></a>"
      ]
    },
    {
      "cell_type": "markdown",
      "metadata": {
        "id": "1xaEKim93ZKq",
        "colab_type": "text"
      },
      "source": [
        "# Drive Mounting"
      ]
    },
    {
      "cell_type": "code",
      "metadata": {
        "id": "XIuYsXBohvKt",
        "colab_type": "code",
        "colab": {}
      },
      "source": [
        "from google.colab import drive\n",
        "drive.mount('/content/drive')"
      ],
      "execution_count": 0,
      "outputs": []
    },
    {
      "cell_type": "markdown",
      "metadata": {
        "id": "eSnPmKHo3fGM",
        "colab_type": "text"
      },
      "source": [
        "# Model Work"
      ]
    },
    {
      "cell_type": "markdown",
      "metadata": {
        "id": "r_2BHHpV5uS6",
        "colab_type": "text"
      },
      "source": [
        "### fastai Installation"
      ]
    },
    {
      "cell_type": "code",
      "metadata": {
        "id": "m-bHOUJOhwHR",
        "colab_type": "code",
        "outputId": "44075fde-135d-4426-d3bc-03161c0ef5a7",
        "colab": {
          "base_uri": "https://localhost:8080/",
          "height": 52
        }
      },
      "source": [
        "#install fastai\n",
        "!curl -s https://course.fast.ai/setup/colab | bash\n",
        "from fastai.vision import *\n",
        "from fastai.metrics import error_rate\n",
        "bs = 64"
      ],
      "execution_count": 0,
      "outputs": [
        {
          "output_type": "stream",
          "text": [
            "Updating fastai...\n",
            "Done.\n"
          ],
          "name": "stdout"
        }
      ]
    },
    {
      "cell_type": "markdown",
      "metadata": {
        "id": "9443yXrx5xeV",
        "colab_type": "text"
      },
      "source": [
        "### Data Downloading & Organization"
      ]
    },
    {
      "cell_type": "code",
      "metadata": {
        "id": "aMrmZ5T_YD2T",
        "colab_type": "code",
        "outputId": "6df2181d-3d22-4535-bbed-7a716d22fba4",
        "colab": {
          "base_uri": "https://localhost:8080/",
          "height": 139
        }
      },
      "source": [
        "!wget  --backups=1 -q https://ceb.nlm.nih.gov/proj/malaria/cell_images.zip\n",
        "!wget  --backups=1 -q https://ceb.nlm.nih.gov/proj/malaria#/malaria_cell_classification_code.zip\n",
        "# List what you've downloaded:\n",
        "!ls -al"
      ],
      "execution_count": 0,
      "outputs": [
        {
          "output_type": "stream",
          "text": [
            "total 345188\n",
            "drwxr-xr-x 1 root root      4096 Mar  8 15:39 .\n",
            "drwxr-xr-x 1 root root      4096 Mar  8 15:38 ..\n",
            "-rw-r--r-- 1 root root 353452851 Apr  6  2018 cell_images.zip\n",
            "drwxr-xr-x 1 root root      4096 Mar  3 18:11 .config\n",
            "lrwxrwxrwx 1 root root        18 Mar  8 15:39 data -> /root/.fastai/data\n",
            "lrwxrwxrwx 1 root root        19 Mar  8 15:39 models -> /root/.torch/models\n"
          ],
          "name": "stdout"
        }
      ]
    },
    {
      "cell_type": "code",
      "metadata": {
        "id": "l8kNqfzWYVUy",
        "colab_type": "code",
        "colab": {}
      },
      "source": [
        "!unzip cell_images.zip"
      ],
      "execution_count": 0,
      "outputs": []
    },
    {
      "cell_type": "code",
      "metadata": {
        "id": "KE0jB6qQYjeP",
        "colab_type": "code",
        "colab": {}
      },
      "source": [
        "!mv cell_images train\n",
        "!mkdir data\n",
        "!mv train data"
      ],
      "execution_count": 0,
      "outputs": []
    },
    {
      "cell_type": "markdown",
      "metadata": {
        "id": "gCSz0asw57m1",
        "colab_type": "text"
      },
      "source": [
        "### Data Preprocessing"
      ]
    },
    {
      "cell_type": "code",
      "metadata": {
        "id": "ekOksPX2h_xh",
        "colab_type": "code",
        "colab": {}
      },
      "source": [
        "path = Path(\"./data\")"
      ],
      "execution_count": 0,
      "outputs": []
    },
    {
      "cell_type": "code",
      "metadata": {
        "id": "Ubb-3OrxiRW3",
        "colab_type": "code",
        "colab": {}
      },
      "source": [
        "data = ImageDataBunch.from_folder(path, ds_tfms=get_transforms(), size=128, valid_pct=0.2, bs=64).normalize(imagenet_stats)"
      ],
      "execution_count": 0,
      "outputs": []
    },
    {
      "cell_type": "markdown",
      "metadata": {
        "id": "a9-XdoWK6A-H",
        "colab_type": "text"
      },
      "source": [
        "### fastai Network Creation & Training"
      ]
    },
    {
      "cell_type": "code",
      "metadata": {
        "id": "ysBoSF5dipRE",
        "colab_type": "code",
        "outputId": "8800baa7-43e4-48de-8729-ebf4b9dafc6f",
        "colab": {
          "base_uri": "https://localhost:8080/",
          "height": 138,
          "referenced_widgets": [
            "9e1b229a997f45a18026950602ff48c5",
            "291824d89b38439bbbdbdeb638528915",
            "1b5f31cf0dcd4e1bab9c78fecb296af5",
            "3c1a0d32d88a47b0868e83d8e6050c77",
            "9d0f91b81abe43e79d74309cbda61fb2",
            "9d08eaf1ae234a328f224ea335358a4b",
            "1db70e97aaa14bee8dbadc7f55c90232",
            "df55848c81bd491cb4da204c4cc043b9"
          ]
        }
      },
      "source": [
        "# create a fastai network for transfer learning\n",
        "learn = create_cnn(data, models.resnet34, metrics=error_rate)"
      ],
      "execution_count": 0,
      "outputs": [
        {
          "output_type": "stream",
          "text": [
            "/usr/local/lib/python3.6/dist-packages/fastai/vision/learner.py:106: UserWarning: `create_cnn` is deprecated and is now named `cnn_learner`.\n",
            "  warn(\"`create_cnn` is deprecated and is now named `cnn_learner`.\")\n",
            "Downloading: \"https://download.pytorch.org/models/resnet34-333f7ec4.pth\" to /root/.cache/torch/checkpoints/resnet34-333f7ec4.pth\n"
          ],
          "name": "stderr"
        },
        {
          "output_type": "display_data",
          "data": {
            "application/vnd.jupyter.widget-view+json": {
              "model_id": "9e1b229a997f45a18026950602ff48c5",
              "version_minor": 0,
              "version_major": 2
            },
            "text/plain": [
              "HBox(children=(IntProgress(value=0, max=87306240), HTML(value='')))"
            ]
          },
          "metadata": {
            "tags": []
          }
        },
        {
          "output_type": "stream",
          "text": [
            "\n"
          ],
          "name": "stdout"
        }
      ]
    },
    {
      "cell_type": "code",
      "metadata": {
        "id": "w8LA1z-Hl2Q-",
        "colab_type": "code",
        "outputId": "152b0f9e-056b-413f-a8fa-b21826312eff",
        "colab": {
          "base_uri": "https://localhost:8080/",
          "height": 175
        }
      },
      "source": [
        "learn.fit_one_cycle(4)"
      ],
      "execution_count": 0,
      "outputs": [
        {
          "output_type": "display_data",
          "data": {
            "text/html": [
              "<table border=\"1\" class=\"dataframe\">\n",
              "  <thead>\n",
              "    <tr style=\"text-align: left;\">\n",
              "      <th>epoch</th>\n",
              "      <th>train_loss</th>\n",
              "      <th>valid_loss</th>\n",
              "      <th>error_rate</th>\n",
              "      <th>time</th>\n",
              "    </tr>\n",
              "  </thead>\n",
              "  <tbody>\n",
              "    <tr>\n",
              "      <td>0</td>\n",
              "      <td>0.268974</td>\n",
              "      <td>0.175026</td>\n",
              "      <td>0.059699</td>\n",
              "      <td>01:33</td>\n",
              "    </tr>\n",
              "    <tr>\n",
              "      <td>1</td>\n",
              "      <td>0.192814</td>\n",
              "      <td>0.140792</td>\n",
              "      <td>0.049719</td>\n",
              "      <td>01:32</td>\n",
              "    </tr>\n",
              "    <tr>\n",
              "      <td>2</td>\n",
              "      <td>0.174179</td>\n",
              "      <td>0.122494</td>\n",
              "      <td>0.043005</td>\n",
              "      <td>01:32</td>\n",
              "    </tr>\n",
              "    <tr>\n",
              "      <td>3</td>\n",
              "      <td>0.147823</td>\n",
              "      <td>0.119500</td>\n",
              "      <td>0.041916</td>\n",
              "      <td>01:31</td>\n",
              "    </tr>\n",
              "  </tbody>\n",
              "</table>"
            ],
            "text/plain": [
              "<IPython.core.display.HTML object>"
            ]
          },
          "metadata": {
            "tags": []
          }
        }
      ]
    },
    {
      "cell_type": "markdown",
      "metadata": {
        "id": "SQWNppPy6Mn7",
        "colab_type": "text"
      },
      "source": [
        "### fastai to ONNX Conversion"
      ]
    },
    {
      "cell_type": "code",
      "metadata": {
        "id": "PMdRWA7jRSgy",
        "colab_type": "code",
        "outputId": "4e251b02-fed8-4514-b200-f4c2cfae12e5",
        "colab": {
          "base_uri": "https://localhost:8080/",
          "height": 34
        }
      },
      "source": [
        "# save model to Onnx format\n",
        "import torch\n",
        "import torchvision\n",
        "\n",
        "dummy_input = torch.randn(1, 3, 128, 128, device='cuda')\n",
        "onnx_path =  \"/content/model_fastai.onnx\"\n",
        "\n",
        "torch.onnx.export(learn.model, dummy_input, onnx_path, verbose=False)\n",
        "print('Model exported to ' + onnx_path)"
      ],
      "execution_count": 0,
      "outputs": [
        {
          "output_type": "stream",
          "text": [
            "Model exported to /content/model_fastai.onnx\n"
          ],
          "name": "stdout"
        }
      ]
    },
    {
      "cell_type": "code",
      "metadata": {
        "id": "EA7I5GdFRUXr",
        "colab_type": "code",
        "outputId": "b39235d5-9698-4946-f905-7287c45808ad",
        "colab": {
          "base_uri": "https://localhost:8080/",
          "height": 34
        }
      },
      "source": [
        "#retrieve the activation function used to reproduce the same actiavtion after\n",
        "# network ouput\n",
        "from fastai import basic_train\n",
        "print(basic_train._loss_func2activ(learn.loss_func))\n",
        "\n",
        "#create labels file\n",
        "with open(\"blood.classes\", 'w') as dc:\n",
        "  dc.write('\\n'.join(data.classes))\n",
        "  \n",
        "# export the stats to normalize the image\n",
        "with open('/content/norm.txt', 'w') as fd:\n",
        "  fd.write(repr(imagenet_stats))"
      ],
      "execution_count": 0,
      "outputs": [
        {
          "output_type": "stream",
          "text": [
            "functools.partial(<function softmax at 0x7fe0f94058c8>, dim=-1)\n"
          ],
          "name": "stdout"
        }
      ]
    },
    {
      "cell_type": "markdown",
      "metadata": {
        "id": "dU7x_jRw6ifb",
        "colab_type": "text"
      },
      "source": [
        "### Data Visualization"
      ]
    },
    {
      "cell_type": "code",
      "metadata": {
        "id": "KEd0oT5Z7zi0",
        "colab_type": "code",
        "outputId": "29b17d2c-4948-4876-83f4-426f290b9203",
        "colab": {
          "base_uri": "https://localhost:8080/",
          "height": 86
        }
      },
      "source": [
        "images_path = get_image_files(path, recurse=True)[0:4]\n",
        "images_path"
      ],
      "execution_count": 0,
      "outputs": [
        {
          "output_type": "execute_result",
          "data": {
            "text/plain": [
              "[PosixPath('data/train/Uninfected/C164P125ThinF_IMG_20151116_120135_cell_129.png'),\n",
              " PosixPath('data/train/Uninfected/C143P104ThinF_IMG_20151005_225454_cell_145.png'),\n",
              " PosixPath('data/train/Uninfected/C202ThinF_IMG_20151015_151736_cell_14.png'),\n",
              " PosixPath('data/train/Uninfected/C101P62ThinF_IMG_20150923_170246_cell_44.png')]"
            ]
          },
          "metadata": {
            "tags": []
          },
          "execution_count": 17
        }
      ]
    },
    {
      "cell_type": "code",
      "metadata": {
        "id": "CQzebbCb72gR",
        "colab_type": "code",
        "outputId": "405400b9-ff96-4888-ea96-c7c9c3fdb3e5",
        "colab": {
          "base_uri": "https://localhost:8080/",
          "height": 189
        }
      },
      "source": [
        "images = [open_image(i) for i in images_path]\n",
        "show_all(images)"
      ],
      "execution_count": 0,
      "outputs": [
        {
          "output_type": "display_data",
          "data": {
            "image/png": "[encoded data removed]",
            "text/plain": [
              "<Figure size 864x432 with 4 Axes>"
            ]
          },
          "metadata": {
            "tags": []
          }
        }
      ]
    },
    {
      "cell_type": "markdown",
      "metadata": {
        "id": "ASvxpNXw6pch",
        "colab_type": "text"
      },
      "source": [
        "### fastai based inference"
      ]
    },
    {
      "cell_type": "code",
      "metadata": {
        "id": "tMOh_p6m74Nc",
        "colab_type": "code",
        "outputId": "ab0faecb-116a-4c6b-e0f4-f041b278f048",
        "colab": {
          "base_uri": "https://localhost:8080/",
          "height": 86
        }
      },
      "source": [
        "for i, im in enumerate(images):\n",
        "  p = learn.predict(im)\n",
        "  print(images_path[i], p[0], p[2][p[1]].item())"
      ],
      "execution_count": 0,
      "outputs": [
        {
          "output_type": "stream",
          "text": [
            "data/train/Uninfected/C164P125ThinF_IMG_20151116_120135_cell_129.png Uninfected 0.9885679483413696\n",
            "data/train/Uninfected/C143P104ThinF_IMG_20151005_225454_cell_145.png Uninfected 0.9993040561676025\n",
            "data/train/Uninfected/C202ThinF_IMG_20151015_151736_cell_14.png Uninfected 0.994648277759552\n",
            "data/train/Uninfected/C101P62ThinF_IMG_20150923_170246_cell_44.png Uninfected 0.7765117883682251\n"
          ],
          "name": "stdout"
        }
      ]
    },
    {
      "cell_type": "markdown",
      "metadata": {
        "id": "f2EH89qF8fNw",
        "colab_type": "text"
      },
      "source": [
        "# OpenVINO Installation & Operations\n"
      ]
    },
    {
      "cell_type": "markdown",
      "metadata": {
        "id": "EXtt-peg4F9d",
        "colab_type": "text"
      },
      "source": [
        "### Reference: [OpenDevLibrary](https://https://github.com/alihussainia/OpenDevLibrary)"
      ]
    },
    {
      "cell_type": "code",
      "metadata": {
        "id": "vuqNcsM-8Gqu",
        "colab_type": "code",
        "colab": {}
      },
      "source": [
        "!wget \"https://storage.googleapis.com/open_vino_public/openvino_initialization_script.py\"\n",
        "!python openvino_initialization_script.py"
      ],
      "execution_count": 0,
      "outputs": []
    },
    {
      "cell_type": "code",
      "metadata": {
        "id": "VvSKQ5o290KZ",
        "colab_type": "code",
        "colab": {}
      },
      "source": [
        "install_dir = \"/opt/intel/openvino/\"\n",
        "model_optimizer = \"/opt/intel/openvino/deployment_tools/model_optimizer/\"\n",
        "deployment_tools = \"/opt/intel/openvino/deployment_tools/\"\n",
        "model_zoo = '/opt/intel/openvino/deployment_tools/open_model_zoo/'"
      ],
      "execution_count": 0,
      "outputs": []
    },
    {
      "cell_type": "markdown",
      "metadata": {
        "id": "qeYNLJsr4fT4",
        "colab_type": "text"
      },
      "source": [
        "### Intermediate Representation"
      ]
    },
    {
      "cell_type": "code",
      "metadata": {
        "id": "KWOWm2Ro98aS",
        "colab_type": "code",
        "colab": {}
      },
      "source": [
        "!pip install onnx=='1.1.2'"
      ],
      "execution_count": 0,
      "outputs": []
    },
    {
      "cell_type": "code",
      "metadata": {
        "id": "bMdT7D3176l6",
        "colab_type": "code",
        "outputId": "5bc0eaf7-b410-4cf7-ad7d-69f0c1600a14",
        "colab": {
          "base_uri": "https://localhost:8080/",
          "height": 486
        }
      },
      "source": [
        "# create the Intermediate Representation and run inference on the CPU\n",
        "!source /opt/intel/openvino/bin/setupvars.sh &&\\\n",
        "python3 /opt/intel/openvino/deployment_tools/model_optimizer/mo.py \\\n",
        "   --input_model model_fastai.onnx --output_dir ir --data_type FP32"
      ],
      "execution_count": 0,
      "outputs": [
        {
          "output_type": "stream",
          "text": [
            "[setupvars.sh] OpenVINO environment initialized\n",
            "Model Optimizer arguments:\n",
            "Common parameters:\n",
            "\t- Path to the Input Model: \t/content/model_fastai.onnx\n",
            "\t- Path for generated IR: \t/content/ir\n",
            "\t- IR output name: \tmodel_fastai\n",
            "\t- Log level: \tERROR\n",
            "\t- Batch: \tNot specified, inherited from the model\n",
            "\t- Input layers: \tNot specified, inherited from the model\n",
            "\t- Output layers: \tNot specified, inherited from the model\n",
            "\t- Input shapes: \tNot specified, inherited from the model\n",
            "\t- Mean values: \tNot specified\n",
            "\t- Scale values: \tNot specified\n",
            "\t- Scale factor: \tNot specified\n",
            "\t- Precision of IR: \tFP32\n",
            "\t- Enable fusing: \tTrue\n",
            "\t- Enable grouped convolutions fusing: \tTrue\n",
            "\t- Move mean values to preprocess section: \tFalse\n",
            "\t- Reverse input channels: \tFalse\n",
            "ONNX specific parameters:\n",
            "Model Optimizer version: \t2020.1.0-61-gd349c3ba4a\n",
            "\n",
            "[ SUCCESS ] Generated IR version 10 model.\n",
            "[ SUCCESS ] XML file: /content/ir/model_fastai.xml\n",
            "[ SUCCESS ] BIN file: /content/ir/model_fastai.bin\n",
            "[ SUCCESS ] Total execution time: 9.13 seconds. \n",
            "[ SUCCESS ] Memory consumed: 3073 MB. \n"
          ],
          "name": "stdout"
        }
      ]
    },
    {
      "cell_type": "markdown",
      "metadata": {
        "id": "3Hh76Hnm40JJ",
        "colab_type": "text"
      },
      "source": [
        "### Infer.py "
      ]
    },
    {
      "cell_type": "code",
      "metadata": {
        "id": "oLIXadHC8E_6",
        "colab_type": "code",
        "outputId": "b1b2259a-c009-4284-cf8d-3d9d2bc3cdec",
        "colab": {
          "base_uri": "https://localhost:8080/",
          "height": 34
        }
      },
      "source": [
        "!cat ./norm.txt"
      ],
      "execution_count": 0,
      "outputs": [
        {
          "output_type": "stream",
          "text": [
            "([0.485, 0.456, 0.406], [0.229, 0.224, 0.225])"
          ],
          "name": "stdout"
        }
      ]
    },
    {
      "cell_type": "code",
      "metadata": {
        "id": "MxPSW2Il-Xzs",
        "colab_type": "code",
        "colab": {}
      },
      "source": [
        "# generated a python file (to be able to run it as a script with OpenVINO environment\n",
        "s = r\"\"\"\n",
        "import sys\n",
        "import os\n",
        "from argparse import ArgumentParser\n",
        "import cv2\n",
        "import numpy as np\n",
        "import logging as log\n",
        "from time import time\n",
        "from openvino.inference_engine import IENetwork, IEPlugin\n",
        "import math\n",
        "\n",
        "# here put the values from the norm.txt file\n",
        "\n",
        "resnet_mean = np.array([0.485, 0.456, 0.406], dtype=np.float32)\n",
        "resnet_scale = np.array([0.229, 0.224, 0.225], dtype=np.float32)\n",
        "\n",
        "\n",
        "def preprocess(im, h, w):\n",
        "    assert(h == w == 128)\n",
        "    sz = 128\n",
        "    # convert image to [0-1] RGB, Width Height Channel\n",
        "    im = im.astype(np.float32) / 255\n",
        "    im = cv2.cvtColor(im, cv2.COLOR_BGR2RGB)\n",
        "\n",
        "    # resize and crop center\n",
        "    r,c, *_ = im.shape\n",
        "    ratio = sz / min(r, c)\n",
        "    im = cv2.resize(im, \n",
        "                    (max(math.floor(c * ratio), sz), max(math.floor(r * ratio), sz)),\n",
        "                    interpolation=cv2.INTER_AREA)\n",
        "    startx = math.ceil((im.shape[0] - sz) / 2)\n",
        "    starty = math.ceil((im.shape[1] - sz) / 2)\n",
        "    im = im[startx:startx + sz, starty:starty + sz]\n",
        "\n",
        "    # normalize and convert to Channel Width Height\n",
        "    im = (im - resnet_mean) / resnet_scale\n",
        "    im = im.transpose((2, 0, 1))\n",
        "    return im\n",
        "\n",
        "\n",
        "parser = ArgumentParser()\n",
        "parser.add_argument(\"-m\", \"--model\", help=\"Path to an .xml file with a trained model.\", required=True, type=str)\n",
        "parser.add_argument(\"-i\", \"--input\", help=\"Path to a folder with images or path to an image files\", required=True,\n",
        "                    type=str, nargs=\"+\")\n",
        "parser.add_argument(\"-d\", \"--device\",\n",
        "                    help=\"Specify the target device to infer on; CPU, GPU, FPGA or MYRIAD is acceptable. Sample \"\n",
        "                         \"will look for a suitable plugin for device specified (CPU by default)\", default=\"CPU\",\n",
        "                    type=str)\n",
        "parser.add_argument(\"--labels\", help=\"Labels mapping file\", default=None, type=str)\n",
        "parser.add_argument(\"-nt\", \"--number_top\", help=\"Number of top results\", default=10, type=int)\n",
        "\n",
        "\n",
        "log.basicConfig(format=\"[ %(levelname)s ] %(message)s\", level=log.INFO, stream=sys.stdout)\n",
        "args = parser.parse_args()\n",
        "model_xml = args.model\n",
        "model_bin = os.path.splitext(model_xml)[0] + \".bin\"\n",
        "\n",
        "# Plugin initialization for specified device and load extensions library if specified\n",
        "plugin = IEPlugin(device=args.device)\n",
        "# Read IR\n",
        "log.info(\"Loading network files:\\n\\t{}\\n\\t{}\".format(model_xml, model_bin))\n",
        "net = IENetwork(model=model_xml, weights=model_bin)\n",
        "\n",
        "assert len(net.inputs.keys()) == 1, \"Sample supports only single input topologies\"\n",
        "assert len(net.outputs) == 1, \"Sample supports only single output topologies\"\n",
        "\n",
        "log.info(\"Preparing input blobs\")\n",
        "input_blob = next(iter(net.inputs))\n",
        "out_blob = next(iter(net.outputs))\n",
        "net.batch_size = len(args.input)\n",
        "\n",
        "# Read and pre-process input images\n",
        "n, c, h, w = net.inputs[input_blob].shape\n",
        "images = np.ndarray(shape=(n, c, h, w))\n",
        "for i in range(n):\n",
        "    image = cv2.imread(args.input[i])\n",
        "    image = preprocess(image, h, w)\n",
        "    images[i] = image\n",
        "\n",
        "log.info(\"Loading model to the plugin\")\n",
        "exec_net = plugin.load(network=net)\n",
        "del net\n",
        "\n",
        "log.info(\"Starting inference)\")\n",
        "res = exec_net.infer(inputs={input_blob: images})\n",
        "\n",
        "log.info(\"Processing output blob\")\n",
        "res = res[out_blob]\n",
        "log.info(\"Top {} results: \".format(args.number_top))\n",
        "if args.labels:\n",
        "    with open(args.labels, 'r') as f:\n",
        "        labels_map = [x.split(sep=' ', maxsplit=1)[-1].strip() for x in f]\n",
        "else:\n",
        "    labels_map = None\n",
        "for i, probs in enumerate(res):\n",
        "    probs = np.squeeze(probs)\n",
        "    \n",
        "    #### add the softmax layer manually\n",
        "    probs = np.exp(probs)/sum(np.exp(probs))\n",
        "    ####\n",
        "    \n",
        "    top_ind = np.argsort(probs)[-args.number_top:][::-1]\n",
        "    print(\"Image {}\".format(args.input[i]))\n",
        "    for id in top_ind:\n",
        "        det_label = labels_map[id] if labels_map else \"#{}\".format(id)\n",
        "        print(\"{:.7f} label {}\".format(probs[id], det_label))\n",
        "    print(\"\")\n",
        "\n",
        "del exec_net\n",
        "del plugin\n",
        "\"\"\"\n",
        "with open(\"infer.py\", 'w') as pf:\n",
        "  pf.write(s)"
      ],
      "execution_count": 0,
      "outputs": []
    },
    {
      "cell_type": "markdown",
      "metadata": {
        "id": "XYiYQiOZ469G",
        "colab_type": "text"
      },
      "source": [
        "# Final Inferences "
      ]
    },
    {
      "cell_type": "code",
      "metadata": {
        "id": "EB_FxQimAzyI",
        "colab_type": "code",
        "outputId": "db52a5b9-8327-4a34-bc16-c83086703004",
        "colab": {
          "base_uri": "https://localhost:8080/",
          "height": 382
        }
      },
      "source": [
        "!source /opt/intel/openvino/bin/setupvars.sh &&\\\n",
        " python3 infer.py -d CPU -m ir/model_fastai.xml \\                                                              \n",
        "  --labels blood.classes \\\n",
        "  -nt 1 -i {images_path[0]} {images_path[1]} {images_path[2]} {images_path[3]}"
      ],
      "execution_count": 0,
      "outputs": [
        {
          "output_type": "stream",
          "text": [
            "[setupvars.sh] OpenVINO environment initialized\n",
            "[ INFO ] Loading network files:\n",
            "\tir/model_fastai.xml\n",
            "\tir/model_fastai.bin\n",
            "[ INFO ] Preparing input blobs\n",
            "[ INFO ] Loading model to the plugin\n",
            "[ INFO ] Starting inference)\n",
            "[ INFO ] Processing output blob\n",
            "[ INFO ] Top 1 results: \n",
            "Image data/train/Uninfected/C164P125ThinF_IMG_20151116_120135_cell_129.png\n",
            "0.9887540 label Uninfected\n",
            "\n",
            "Image data/train/Uninfected/C143P104ThinF_IMG_20151005_225454_cell_145.png\n",
            "0.9996816 label Uninfected\n",
            "\n",
            "Image data/train/Uninfected/C202ThinF_IMG_20151015_151736_cell_14.png\n",
            "0.9954286 label Uninfected\n",
            "\n",
            "Image data/train/Uninfected/C101P62ThinF_IMG_20150923_170246_cell_44.png\n",
            "0.8437263 label Uninfected\n",
            "\n"
          ],
          "name": "stdout"
        }
      ]
    },
    {
      "cell_type": "code",
      "metadata": {
        "id": "6lsbSHy46Lqu",
        "colab_type": "code",
        "colab": {}
      },
      "source": [
        ""
      ],
      "execution_count": 0,
      "outputs": []
    }
  ]
}